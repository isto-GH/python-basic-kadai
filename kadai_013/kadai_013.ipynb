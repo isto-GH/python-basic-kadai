{
  "nbformat": 4,
  "nbformat_minor": 0,
  "metadata": {
    "colab": {
      "provenance": []
    },
    "kernelspec": {
      "name": "python3",
      "display_name": "Python 3"
    },
    "language_info": {
      "name": "python"
    }
  },
  "cells": [
    {
      "cell_type": "code",
      "execution_count": 1,
      "metadata": {
        "colab": {
          "base_uri": "https://localhost:8080/"
        },
        "id": "QYoINSOmXkoR",
        "outputId": "31330b06-3c68-45d3-b3c6-6d018b73e125"
      },
      "outputs": [
        {
          "output_type": "stream",
          "name": "stdout",
          "text": [
            "税込み価格は 121.0 円です\n"
          ]
        }
      ],
      "source": [
        "# 消費税を加えた金額を計算する関数を定義\n",
        "def calc_tax_included(price, tax_rate):\n",
        "    # 消費税額を計算し、税込み価格を返す\n",
        "    tax_amount = price * tax_rate / 100\n",
        "    return price + tax_amount\n",
        "\n",
        "# 関数を呼び出して使う（第1引数：商品価格110円、第2引数：消費税10%）\n",
        "result = calc_tax_included(110, 10)\n",
        "\n",
        "# 結果を表示\n",
        "print(\"税込み価格は\", result, \"円です\")\n"
      ]
    }
  ]
}